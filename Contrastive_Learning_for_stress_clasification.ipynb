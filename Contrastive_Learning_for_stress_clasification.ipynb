{
  "cells": [
    {
      "cell_type": "markdown",
      "metadata": {
        "id": "view-in-github",
        "colab_type": "text"
      },
      "source": [
        "<a href=\"https://colab.research.google.com/github/elana1fel/Dreaddit_implementation/blob/main/Contrastive_Learning_for_stress_clasification.ipynb\" target=\"_parent\"><img src=\"https://colab.research.google.com/assets/colab-badge.svg\" alt=\"Open In Colab\"/></a>"
      ]
    },
    {
      "cell_type": "code",
      "execution_count": 1,
      "metadata": {
        "colab": {
          "base_uri": "https://localhost:8080/"
        },
        "id": "uMmiHRjw4DLU",
        "outputId": "1da807d3-c0b3-40f6-8317-4c009ded3f8e"
      },
      "outputs": [
        {
          "output_type": "stream",
          "name": "stdout",
          "text": [
            "Cloning into 'Dreaddit_implementation'...\n",
            "remote: Enumerating objects: 11, done.\u001b[K\n",
            "remote: Counting objects: 100% (11/11), done.\u001b[K\n",
            "remote: Compressing objects: 100% (10/10), done.\u001b[K\n",
            "remote: Total 11 (delta 1), reused 6 (delta 1), pack-reused 0\u001b[K\n",
            "Unpacking objects: 100% (11/11), done.\n"
          ]
        }
      ],
      "source": [
        "! git clone https://github.com/elana1fel/Dreaddit_implementation.git"
      ]
    },
    {
      "cell_type": "code",
      "execution_count": 2,
      "metadata": {
        "colab": {
          "base_uri": "https://localhost:8080/"
        },
        "id": "BdF3bZA4dGI1",
        "outputId": "b0c4c2f4-9c38-4688-c05e-ed229e5cc2bb"
      },
      "outputs": [
        {
          "output_type": "stream",
          "name": "stdout",
          "text": [
            "Looking in indexes: https://pypi.org/simple, https://us-python.pkg.dev/colab-wheels/public/simple/\n",
            "Collecting transformers\n",
            "  Downloading transformers-4.21.2-py3-none-any.whl (4.7 MB)\n",
            "\u001b[K     |████████████████████████████████| 4.7 MB 14.6 MB/s \n",
            "\u001b[?25hRequirement already satisfied: numpy>=1.17 in /usr/local/lib/python3.7/dist-packages (from transformers) (1.21.6)\n",
            "Requirement already satisfied: pyyaml>=5.1 in /usr/local/lib/python3.7/dist-packages (from transformers) (6.0)\n",
            "Requirement already satisfied: importlib-metadata in /usr/local/lib/python3.7/dist-packages (from transformers) (4.12.0)\n",
            "Requirement already satisfied: requests in /usr/local/lib/python3.7/dist-packages (from transformers) (2.23.0)\n",
            "Requirement already satisfied: filelock in /usr/local/lib/python3.7/dist-packages (from transformers) (3.8.0)\n",
            "Collecting huggingface-hub<1.0,>=0.1.0\n",
            "  Downloading huggingface_hub-0.9.1-py3-none-any.whl (120 kB)\n",
            "\u001b[K     |████████████████████████████████| 120 kB 73.2 MB/s \n",
            "\u001b[?25hRequirement already satisfied: tqdm>=4.27 in /usr/local/lib/python3.7/dist-packages (from transformers) (4.64.0)\n",
            "Requirement already satisfied: packaging>=20.0 in /usr/local/lib/python3.7/dist-packages (from transformers) (21.3)\n",
            "Collecting tokenizers!=0.11.3,<0.13,>=0.11.1\n",
            "  Downloading tokenizers-0.12.1-cp37-cp37m-manylinux_2_12_x86_64.manylinux2010_x86_64.whl (6.6 MB)\n",
            "\u001b[K     |████████████████████████████████| 6.6 MB 24.8 MB/s \n",
            "\u001b[?25hRequirement already satisfied: regex!=2019.12.17 in /usr/local/lib/python3.7/dist-packages (from transformers) (2022.6.2)\n",
            "Requirement already satisfied: typing-extensions>=3.7.4.3 in /usr/local/lib/python3.7/dist-packages (from huggingface-hub<1.0,>=0.1.0->transformers) (4.1.1)\n",
            "Requirement already satisfied: pyparsing!=3.0.5,>=2.0.2 in /usr/local/lib/python3.7/dist-packages (from packaging>=20.0->transformers) (3.0.9)\n",
            "Requirement already satisfied: zipp>=0.5 in /usr/local/lib/python3.7/dist-packages (from importlib-metadata->transformers) (3.8.1)\n",
            "Requirement already satisfied: certifi>=2017.4.17 in /usr/local/lib/python3.7/dist-packages (from requests->transformers) (2022.6.15)\n",
            "Requirement already satisfied: chardet<4,>=3.0.2 in /usr/local/lib/python3.7/dist-packages (from requests->transformers) (3.0.4)\n",
            "Requirement already satisfied: urllib3!=1.25.0,!=1.25.1,<1.26,>=1.21.1 in /usr/local/lib/python3.7/dist-packages (from requests->transformers) (1.24.3)\n",
            "Requirement already satisfied: idna<3,>=2.5 in /usr/local/lib/python3.7/dist-packages (from requests->transformers) (2.10)\n",
            "Installing collected packages: tokenizers, huggingface-hub, transformers\n",
            "Successfully installed huggingface-hub-0.9.1 tokenizers-0.12.1 transformers-4.21.2\n",
            "Looking in indexes: https://pypi.org/simple, https://us-python.pkg.dev/colab-wheels/public/simple/\n",
            "Collecting torchsampler\n",
            "  Downloading torchsampler-0.1.2-py3-none-any.whl (5.6 kB)\n",
            "Requirement already satisfied: torch>=1.3 in /usr/local/lib/python3.7/dist-packages (from torchsampler) (1.12.1+cu113)\n",
            "Requirement already satisfied: torchvision>=0.5 in /usr/local/lib/python3.7/dist-packages (from torchsampler) (0.13.1+cu113)\n",
            "Requirement already satisfied: importlib-metadata in /usr/local/lib/python3.7/dist-packages (from torchsampler) (4.12.0)\n",
            "Requirement already satisfied: pandas in /usr/local/lib/python3.7/dist-packages (from torchsampler) (1.3.5)\n",
            "Requirement already satisfied: typing-extensions in /usr/local/lib/python3.7/dist-packages (from torch>=1.3->torchsampler) (4.1.1)\n",
            "Requirement already satisfied: pillow!=8.3.*,>=5.3.0 in /usr/local/lib/python3.7/dist-packages (from torchvision>=0.5->torchsampler) (7.1.2)\n",
            "Requirement already satisfied: requests in /usr/local/lib/python3.7/dist-packages (from torchvision>=0.5->torchsampler) (2.23.0)\n",
            "Requirement already satisfied: numpy in /usr/local/lib/python3.7/dist-packages (from torchvision>=0.5->torchsampler) (1.21.6)\n",
            "Requirement already satisfied: zipp>=0.5 in /usr/local/lib/python3.7/dist-packages (from importlib-metadata->torchsampler) (3.8.1)\n",
            "Requirement already satisfied: python-dateutil>=2.7.3 in /usr/local/lib/python3.7/dist-packages (from pandas->torchsampler) (2.8.2)\n",
            "Requirement already satisfied: pytz>=2017.3 in /usr/local/lib/python3.7/dist-packages (from pandas->torchsampler) (2022.2.1)\n",
            "Requirement already satisfied: six>=1.5 in /usr/local/lib/python3.7/dist-packages (from python-dateutil>=2.7.3->pandas->torchsampler) (1.15.0)\n",
            "Requirement already satisfied: certifi>=2017.4.17 in /usr/local/lib/python3.7/dist-packages (from requests->torchvision>=0.5->torchsampler) (2022.6.15)\n",
            "Requirement already satisfied: chardet<4,>=3.0.2 in /usr/local/lib/python3.7/dist-packages (from requests->torchvision>=0.5->torchsampler) (3.0.4)\n",
            "Requirement already satisfied: idna<3,>=2.5 in /usr/local/lib/python3.7/dist-packages (from requests->torchvision>=0.5->torchsampler) (2.10)\n",
            "Requirement already satisfied: urllib3!=1.25.0,!=1.25.1,<1.26,>=1.21.1 in /usr/local/lib/python3.7/dist-packages (from requests->torchvision>=0.5->torchsampler) (1.24.3)\n",
            "Installing collected packages: torchsampler\n",
            "Successfully installed torchsampler-0.1.2\n",
            "Looking in indexes: https://pypi.org/simple, https://us-python.pkg.dev/colab-wheels/public/simple/\n",
            "Collecting pytorch-metric-learning\n",
            "  Downloading pytorch_metric_learning-1.6.0-py3-none-any.whl (111 kB)\n",
            "\u001b[K     |████████████████████████████████| 111 kB 15.3 MB/s \n",
            "\u001b[?25hRequirement already satisfied: scikit-learn in /usr/local/lib/python3.7/dist-packages (from pytorch-metric-learning) (1.0.2)\n",
            "Requirement already satisfied: torchvision in /usr/local/lib/python3.7/dist-packages (from pytorch-metric-learning) (0.13.1+cu113)\n",
            "Requirement already satisfied: torch>=1.6.0 in /usr/local/lib/python3.7/dist-packages (from pytorch-metric-learning) (1.12.1+cu113)\n",
            "Requirement already satisfied: tqdm in /usr/local/lib/python3.7/dist-packages (from pytorch-metric-learning) (4.64.0)\n",
            "Requirement already satisfied: numpy in /usr/local/lib/python3.7/dist-packages (from pytorch-metric-learning) (1.21.6)\n",
            "Requirement already satisfied: typing-extensions in /usr/local/lib/python3.7/dist-packages (from torch>=1.6.0->pytorch-metric-learning) (4.1.1)\n",
            "Requirement already satisfied: threadpoolctl>=2.0.0 in /usr/local/lib/python3.7/dist-packages (from scikit-learn->pytorch-metric-learning) (3.1.0)\n",
            "Requirement already satisfied: scipy>=1.1.0 in /usr/local/lib/python3.7/dist-packages (from scikit-learn->pytorch-metric-learning) (1.7.3)\n",
            "Requirement already satisfied: joblib>=0.11 in /usr/local/lib/python3.7/dist-packages (from scikit-learn->pytorch-metric-learning) (1.1.0)\n",
            "Requirement already satisfied: requests in /usr/local/lib/python3.7/dist-packages (from torchvision->pytorch-metric-learning) (2.23.0)\n",
            "Requirement already satisfied: pillow!=8.3.*,>=5.3.0 in /usr/local/lib/python3.7/dist-packages (from torchvision->pytorch-metric-learning) (7.1.2)\n",
            "Requirement already satisfied: certifi>=2017.4.17 in /usr/local/lib/python3.7/dist-packages (from requests->torchvision->pytorch-metric-learning) (2022.6.15)\n",
            "Requirement already satisfied: urllib3!=1.25.0,!=1.25.1,<1.26,>=1.21.1 in /usr/local/lib/python3.7/dist-packages (from requests->torchvision->pytorch-metric-learning) (1.24.3)\n",
            "Requirement already satisfied: chardet<4,>=3.0.2 in /usr/local/lib/python3.7/dist-packages (from requests->torchvision->pytorch-metric-learning) (3.0.4)\n",
            "Requirement already satisfied: idna<3,>=2.5 in /usr/local/lib/python3.7/dist-packages (from requests->torchvision->pytorch-metric-learning) (2.10)\n",
            "Installing collected packages: pytorch-metric-learning\n",
            "Successfully installed pytorch-metric-learning-1.6.0\n"
          ]
        }
      ],
      "source": [
        "! pip install transformers\n",
        "! pip install torchsampler\n",
        "! pip install pytorch-metric-learning\n"
      ]
    },
    {
      "cell_type": "code",
      "execution_count": 3,
      "metadata": {
        "colab": {
          "base_uri": "https://localhost:8080/"
        },
        "id": "-JBRU-B1RujO",
        "outputId": "e8ac6d6b-9af3-48f4-c573-860e0e15d996"
      },
      "outputs": [
        {
          "output_type": "stream",
          "name": "stderr",
          "text": [
            "[nltk_data] Downloading package vader_lexicon to /root/nltk_data...\n"
          ]
        }
      ],
      "source": [
        "import numpy as np\n",
        "import pandas as pd\n",
        "import torch\n",
        "from torch.utils.data import Dataset\n",
        "import torch.nn as nn\n",
        "\n",
        "import nltk\n",
        "nltk.download('vader_lexicon')\n",
        "from nltk.sentiment.vader import SentimentIntensityAnalyzer\n",
        "\n",
        "from transformers import AutoTokenizer, AutoModelForSequenceClassification,\\\n",
        "                         AdamW, get_scheduler, AutoModel\n",
        "from sklearn.metrics import precision_recall_fscore_support\n",
        "from tqdm import tqdm\n",
        "from torch.optim import Adam\n",
        "from torch.utils.data import DataLoader\n",
        "from torchsampler import ImbalancedDatasetSampler\n",
        "from pytorch_metric_learning import losses\n",
        "import sys\n",
        "import os\n"
      ]
    },
    {
      "cell_type": "code",
      "execution_count": 4,
      "metadata": {
        "colab": {
          "base_uri": "https://localhost:8080/"
        },
        "id": "mq3JrvG8vXuq",
        "outputId": "689cda9f-7201-4401-b5b8-84a0773d1ee7"
      },
      "outputs": [
        {
          "output_type": "execute_result",
          "data": {
            "text/plain": [
              "True"
            ]
          },
          "metadata": {},
          "execution_count": 4
        }
      ],
      "source": [
        "import torch\n",
        "\n",
        "torch.cuda.is_available()"
      ]
    },
    {
      "cell_type": "markdown",
      "metadata": {
        "id": "-C9RBqgKgeb0"
      },
      "source": [
        "# Adding Vader as a feature"
      ]
    },
    {
      "cell_type": "code",
      "execution_count": 5,
      "metadata": {
        "id": "vXMKAfkZgmq-"
      },
      "outputs": [],
      "source": [
        "def get_vader_feature(df):\n",
        "    sid = SentimentIntensityAnalyzer()\n",
        "    df['neg'] = df['text'].apply(lambda review: sid.polarity_scores(review)['neg'])\n",
        "    df['pos'] = df['text'].apply(lambda review: sid.polarity_scores(review)['pos'])\n",
        "    df['neu'] = df['text'].apply(lambda review: sid.polarity_scores(review)['neu'])\n",
        "    df['compound'] = df['text'].apply(lambda review: sid.polarity_scores(review)['compound'])"
      ]
    },
    {
      "cell_type": "markdown",
      "metadata": {
        "id": "bQb_SViIh5WD"
      },
      "source": [
        "# StressDataset class"
      ]
    },
    {
      "cell_type": "code",
      "execution_count": 6,
      "metadata": {
        "id": "2ZIWnov_e9Lj"
      },
      "outputs": [],
      "source": [
        "class StressDataset(Dataset):\n",
        "    def __init__(self, file_path, mode):\n",
        "        super().__init__()\n",
        "        self.mode = mode\n",
        "        df = pd.read_csv(file_path)\n",
        "        self.labels = df['label'].tolist()\n",
        "        self.data = {}\n",
        "        get_vader_feature(df)\n",
        "        for idx, row in df.iterrows():\n",
        "            self.data[idx] = (row['text'], row['neg'], row['neu'], row['pos'], row['compound'], row['label'])\n",
        "        \n",
        "    def __len__(self):\n",
        "        return len(self.data)\n",
        "    \n",
        "    def __getitem__(self, idx):\n",
        "          text, neg, neu, pos, compound, label = self.data[idx]\n",
        "          vad_score = [neg, neu, pos, compound]\n",
        "          return (text, torch.tensor(vad_score), torch.tensor(label, dtype=torch.long))\n",
        "\n",
        "\n",
        "    def get_labels(self):\n",
        "        return self.labels\n"
      ]
    },
    {
      "cell_type": "markdown",
      "metadata": {
        "id": "4gyLhE4TiBxf"
      },
      "source": [
        "# model class"
      ]
    },
    {
      "cell_type": "code",
      "execution_count": 7,
      "metadata": {
        "id": "8TnG5Mn-wGdh"
      },
      "outputs": [],
      "source": [
        "class Model(nn.Module):\n",
        "    def __init__(self, pretrained_type, config):\n",
        "        super().__init__()\n",
        "\n",
        "        num_labels = 2\n",
        "        self.pretrained_model = AutoModel.from_pretrained(pretrained_type, num_labels=num_labels)\n",
        "        self.dense = nn.Linear(768, config['hidden'])\n",
        "        self.dropout = nn.Dropout(config['dropout'])\n",
        "        self.classifier = nn.Linear(config['hidden'], num_labels)\n",
        "\n",
        "        vad_dim = 128\n",
        "        self.vad_embedding = nn.Sequential(\n",
        "            nn.Linear(4, vad_dim),\n",
        "            nn.GELU()\n",
        "        )\n",
        "\n",
        "        self.pool_embedding = nn.Sequential(\n",
        "            nn.Linear(config['hidden'] + vad_dim, config['hidden']),\n",
        "            nn.GELU()\n",
        "        )\n",
        "\n",
        "        self.gelu = nn.GELU()\n",
        "\n",
        "        torch.nn.init.orthogonal_(self.dense.weight)\n",
        "        torch.nn.init.orthogonal_(self.classifier.weight)\n",
        "\n",
        "    def forward(self, vad_score, **pretrained_text):\n",
        "        vad_embedding = self.vad_embedding(vad_score)\n",
        "        outputs = self.pretrained_model(**pretrained_text).last_hidden_state\n",
        "        pretrained_output = outputs[:, 0, :]\n",
        "        pretrained_output = self.gelu(self.dense(pretrained_output))\n",
        "\n",
        "        pooled_output = torch.cat((vad_embedding, pretrained_output), dim=1)\n",
        "        pooled_output = self.pool_embedding(pooled_output)\n",
        "        pooled_output = self.dropout(pooled_output)\n",
        "        logits = self.classifier(pooled_output)\n",
        "        \n",
        "        return logits, pretrained_output, vad_embedding"
      ]
    },
    {
      "cell_type": "code",
      "execution_count": 8,
      "metadata": {
        "id": "KWB615tFz_TU"
      },
      "outputs": [],
      "source": [
        "res_path = \"/content/Dreaddit_implementation/models\"\n",
        "if not os.path.isdir(res_path):\n",
        "  os.makedirs(res_path)\n"
      ]
    },
    {
      "cell_type": "markdown",
      "source": [
        "# Supervised Contrastive Learning"
      ],
      "metadata": {
        "id": "yzcs6nMSA1rG"
      }
    },
    {
      "cell_type": "code",
      "execution_count": 9,
      "metadata": {
        "id": "y3BEn9mIwH0W"
      },
      "outputs": [],
      "source": [
        "import random\n",
        "\n",
        "MODEL = {\n",
        "    \"roberta\":{\n",
        "        \"pretrain\": \"cardiffnlp/twitter-roberta-base-sentiment\",\n",
        "        \"name\": \"twitter-roberta-base-sentiment\"\n",
        "    }\n",
        "}\n",
        "\n",
        "os.environ[\"TOKENIZERS_PARALLELISM\"] = \"false\"\n",
        "PRINT_MODEL = True\n",
        "\n",
        "def set_seed():\n",
        "    torch.manual_seed(SEED)\n",
        "    torch.cuda.manual_seed(SEED)\n",
        "    torch.cuda.manual_seed_all(SEED)\n",
        "\n",
        "def prepare_data(train_path, dev_path):\n",
        "    train_data = StressDataset(train_path, mode='train')\n",
        "    dev_data = StressDataset(dev_path, mode='val')\n",
        "    train_dataloader = DataLoader(train_data, batch_size=BATCH_SIZE, sampler=ImbalancedDatasetSampler(train_data))\n",
        "    dev_dataloader = DataLoader(dev_data, batch_size=1, shuffle=False)\n",
        "    return train_dataloader, dev_dataloader\n",
        "\n",
        "def train():\n",
        "    model_type = 'roberta'\n",
        "    train_path='/content/Dreaddit_implementation/dreaddit-train.csv'\n",
        "    dev_path='/content/Dreaddit_implementation/dreaddit-test.csv'\n",
        "\n",
        "    set_seed()\n",
        "    config = {\n",
        "        'dropout': DROPOUT,\n",
        "        'hidden': HIDDEN\n",
        "    }\n",
        "    train_dataloader, dev_dataloader = prepare_data(train_path, dev_path)\n",
        "    device = torch.device(\"cuda\") if torch.cuda.is_available() else torch.device(\"cpu\")\n",
        "    print(f\"running on: {device}\")\n",
        "\n",
        "    model = Model(MODEL[model_type][\"pretrain\"], config).to(device)\n",
        "\n",
        "    #print(model)\n",
        "    tokenizer = AutoTokenizer.from_pretrained(MODEL[model_type][\"pretrain\"])\n",
        "    optimizer = AdamW(model.parameters(), lr=LR)\n",
        "    scheduler = get_scheduler(\"linear\", optimizer=optimizer, num_warmup_steps=WARM_UP, num_training_steps=len(train_dataloader)*EPOCHS)\n",
        "    criterion = nn.CrossEntropyLoss() \n",
        "    #loss_func = losses.SupConLoss().to(device)\n",
        "    loss_func = nn.TripletMarginLoss(margin=1.0).to(device)\n",
        "    # check trained parameters\n",
        "    print(\"Parameters to train:\", sum(p.numel() for p in model.parameters() if p.requires_grad))\n",
        "\n",
        "    best_f1 = 0\n",
        "    pbar = tqdm(range(EPOCHS), desc='Epoch: ')\n",
        "    for epoch in pbar:\n",
        "        model.train()\n",
        "        total_loss = 0\n",
        "        for data in train_dataloader:\n",
        "            optimizer.zero_grad()\n",
        "            text, vad_score, label = list(data[0]), data[1].to(device), data[2].to(device)\n",
        "            input_text = tokenizer(text, padding=True, truncation=True, max_length=512, return_tensors=\"pt\").to(device)\n",
        "            \n",
        "            logits, pretrained_output, vad_embedding = model(vad_score=vad_score, **input_text)\n",
        "\n",
        "            ce_loss = criterion(logits, label)\n",
        "\n",
        "            if torch.numel(torch.unique(label))==2:\n",
        "              bs, emb = vad_embedding.shape[0], vad_embedding.shape[1]\n",
        "              ones_args = torch.argwhere(label).reshape(-1,).tolist()\n",
        "              zeros_args = torch.argwhere(1-label).reshape(-1,).tolist()\n",
        "              \n",
        "              base_vad = []\n",
        "              pos_vad = []\n",
        "              neg_vad = []\n",
        "              for i in range(len(zeros_args)-1):\n",
        "                for j in range(i+1, len(zeros_args)):\n",
        "                  base_vad.append(vad_embedding[zeros_args[i]])\n",
        "                  pos_vad.append(vad_embedding[zeros_args[j]])\n",
        "                  neg_vad.append(vad_embedding[random.choice(ones_args)])\n",
        "              for i in range(len(ones_args)-1):\n",
        "                for j in range(i+1, len(ones_args)):\n",
        "                  base_vad.append(vad_embedding[ones_args[i]])\n",
        "                  pos_vad.append(vad_embedding[ones_args[j]])\n",
        "                  neg_vad.append(vad_embedding[random.choice(zeros_args)])\n",
        "              base_vad = torch.stack(base_vad)\n",
        "              pos_vad = torch.stack(pos_vad)\n",
        "              neg_vad = torch.stack(neg_vad)\n",
        "              '''scl_pretrained_loss = loss_func(pretrained_output, label)\n",
        "              scl_vad_loss = loss_func(vad_embedding, label)'''\n",
        "              scl_vad_loss = loss_func(base_vad, pos_vad, neg_vad)\n",
        "\n",
        "              base_pretrained = []\n",
        "              pos_pretrained = []\n",
        "              neg_pretrained = []\n",
        "              for i in range(len(zeros_args)-1):\n",
        "                for j in range(i+1, len(zeros_args)):\n",
        "                  base_pretrained.append(pretrained_output[zeros_args[i]])\n",
        "                  pos_pretrained.append(pretrained_output[zeros_args[j]])\n",
        "                  neg_pretrained.append(pretrained_output[random.choice(ones_args)])\n",
        "              for i in range(len(ones_args)-1):\n",
        "                for j in range(i+1, len(ones_args)):\n",
        "                  base_pretrained.append(pretrained_output[ones_args[i]])\n",
        "                  pos_pretrained.append(pretrained_output[ones_args[j]])\n",
        "                  neg_pretrained.append(pretrained_output[random.choice(zeros_args)])\n",
        "              base_pretrained = torch.stack(base_pretrained)\n",
        "              pos_pretrained = torch.stack(pos_pretrained)\n",
        "              neg_pretrained = torch.stack(neg_pretrained)\n",
        "              scl_pretrained_loss = loss_func(base_pretrained, pos_pretrained, neg_pretrained)\n",
        "            else:\n",
        "              scl_pretrained_loss = 0\n",
        "              scl_vad_loss = 0\n",
        "            loss = LAMBDA * ce_loss + (1-LAMBDA) * scl_pretrained_loss + (LAMBDA2) * scl_vad_loss\n",
        "\n",
        "            total_loss += loss.item()\n",
        "            loss.backward()\n",
        "            optimizer.step()\n",
        "        scheduler.step()\n",
        "    \n",
        "        model.eval()\n",
        "        pred = []\n",
        "        labels = []\n",
        "        for data in dev_dataloader:\n",
        "            text, vad_score, label = list(data[0]), data[1].to(device), data[2].to(device)\n",
        "            input_text = tokenizer(text, padding=True, truncation=True, max_length=512, return_tensors=\"pt\").to(device)\n",
        "            with torch.no_grad():\n",
        "                logits, pretrained_output, vad_embedding = model(vad_score=vad_score, **input_text)\n",
        "\n",
        "            pred.append(torch.argmax(logits, dim=-1).cpu().numpy())\n",
        "            labels.append(label.cpu().numpy())\n",
        "        precision, recall, f1, support = precision_recall_fscore_support(labels, pred, average='weighted', zero_division=1)\n",
        "        precision = round(precision, 4)\n",
        "        recall = round(recall, 4)\n",
        "        f1 = round(f1, 4)\n",
        "        avg_loss = round(total_loss/len(train_dataloader), 4)\n",
        "        pbar.set_description(f\"Epoch: {epoch}, F1 score: {f1}, Loss: {avg_loss}\", refresh=True)\n",
        "        print(f\"epoch: {epoch}, f1: {f1}, train loss: {avg_loss}, precision: {precision}, recall: {recall}, support: {support}\")\n",
        "        if f1 > best_f1:\n",
        "            print(f\"best_f1_weighted: {f1}\")\n",
        "            print(f\"best_precision_weighted: {precision}\")\n",
        "            print(f\"best_recall_weighted: {recall}\")\n",
        "            best_f1 = f1\n",
        "            if f1 >= 0.8:\n",
        "                torch.save(model.state_dict(), f\"{res_path}/{MODEL[model_type]['name']}_{f1}.pt\")\n",
        "\n",
        "\n"
      ]
    },
    {
      "cell_type": "code",
      "execution_count": 13,
      "metadata": {
        "id": "Jp5iPxw1YNky",
        "colab": {
          "base_uri": "https://localhost:8080/"
        },
        "outputId": "517c3f35-faa7-4353-ffd3-0f1eee951652"
      },
      "outputs": [
        {
          "output_type": "stream",
          "name": "stdout",
          "text": [
            "running on: cuda\n"
          ]
        },
        {
          "output_type": "stream",
          "name": "stderr",
          "text": [
            "Some weights of the model checkpoint at cardiffnlp/twitter-roberta-base-sentiment were not used when initializing RobertaModel: ['classifier.out_proj.bias', 'classifier.dense.weight', 'classifier.out_proj.weight', 'classifier.dense.bias']\n",
            "- This IS expected if you are initializing RobertaModel from the checkpoint of a model trained on another task or with another architecture (e.g. initializing a BertForSequenceClassification model from a BertForPreTraining model).\n",
            "- This IS NOT expected if you are initializing RobertaModel from the checkpoint of a model that you expect to be exactly identical (initializing a BertForSequenceClassification model from a BertForSequenceClassification model).\n",
            "Some weights of RobertaModel were not initialized from the model checkpoint at cardiffnlp/twitter-roberta-base-sentiment and are newly initialized: ['roberta.pooler.dense.weight', 'roberta.pooler.dense.bias']\n",
            "You should probably TRAIN this model on a down-stream task to be able to use it for predictions and inference.\n",
            "/usr/local/lib/python3.7/dist-packages/transformers/optimization.py:310: FutureWarning: This implementation of AdamW is deprecated and will be removed in a future version. Use the PyTorch implementation torch.optim.AdamW instead, or set `no_deprecation_warning=True` to disable this warning\n",
            "  FutureWarning,\n"
          ]
        },
        {
          "output_type": "stream",
          "name": "stdout",
          "text": [
            "Parameters to train: 125369218\n"
          ]
        },
        {
          "output_type": "stream",
          "name": "stderr",
          "text": [
            "Epoch: 0, F1 score: 0.3032, Loss: 1.0333:  10%|█         | 1/10 [01:01<09:17, 61.93s/it]"
          ]
        },
        {
          "output_type": "stream",
          "name": "stdout",
          "text": [
            "epoch: 0, f1: 0.3032, train loss: 1.0333, precision: 0.3013, recall: 0.3077, support: None\n",
            "best_f1_weighted: 0.3032\n",
            "best_precision_weighted: 0.3013\n",
            "best_recall_weighted: 0.3077\n"
          ]
        },
        {
          "output_type": "stream",
          "name": "stderr",
          "text": [
            "\rEpoch: 1, F1 score: 0.8221, Loss: 0.7219:  10%|█         | 1/10 [02:03<09:17, 61.93s/it]"
          ]
        },
        {
          "output_type": "stream",
          "name": "stdout",
          "text": [
            "epoch: 1, f1: 0.8221, train loss: 0.7219, precision: 0.823, recall: 0.8224, support: None\n",
            "best_f1_weighted: 0.8221\n",
            "best_precision_weighted: 0.823\n",
            "best_recall_weighted: 0.8224\n"
          ]
        },
        {
          "output_type": "stream",
          "name": "stderr",
          "text": [
            "Epoch: 2, F1 score: 0.8043, Loss: 0.504:  30%|███       | 3/10 [03:07<07:19, 62.80s/it]"
          ]
        },
        {
          "output_type": "stream",
          "name": "stdout",
          "text": [
            "epoch: 2, f1: 0.8043, train loss: 0.504, precision: 0.8102, recall: 0.8056, support: None\n"
          ]
        },
        {
          "output_type": "stream",
          "name": "stderr",
          "text": [
            "Epoch: 3, F1 score: 0.7573, Loss: 0.4114:  40%|████      | 4/10 [04:09<06:14, 62.39s/it]"
          ]
        },
        {
          "output_type": "stream",
          "name": "stdout",
          "text": [
            "epoch: 3, f1: 0.7573, train loss: 0.4114, precision: 0.7942, recall: 0.765, support: None\n"
          ]
        },
        {
          "output_type": "stream",
          "name": "stderr",
          "text": [
            "\rEpoch: 4, F1 score: 0.8266, Loss: 0.3399:  40%|████      | 4/10 [05:11<06:14, 62.39s/it]"
          ]
        },
        {
          "output_type": "stream",
          "name": "stdout",
          "text": [
            "epoch: 4, f1: 0.8266, train loss: 0.3399, precision: 0.8277, recall: 0.8266, support: None\n",
            "best_f1_weighted: 0.8266\n",
            "best_precision_weighted: 0.8277\n",
            "best_recall_weighted: 0.8266\n"
          ]
        },
        {
          "output_type": "stream",
          "name": "stderr",
          "text": [
            "Epoch: 5, F1 score: 0.8112, Loss: 0.2619:  60%|██████    | 6/10 [06:14<04:09, 62.35s/it]"
          ]
        },
        {
          "output_type": "stream",
          "name": "stdout",
          "text": [
            "epoch: 5, f1: 0.8112, train loss: 0.2619, precision: 0.8126, recall: 0.8112, support: None\n"
          ]
        },
        {
          "output_type": "stream",
          "name": "stderr",
          "text": [
            "Epoch: 6, F1 score: 0.8041, Loss: 0.2354:  70%|███████   | 7/10 [07:15<03:05, 61.89s/it]"
          ]
        },
        {
          "output_type": "stream",
          "name": "stdout",
          "text": [
            "epoch: 6, f1: 0.8041, train loss: 0.2354, precision: 0.8076, recall: 0.8042, support: None\n"
          ]
        },
        {
          "output_type": "stream",
          "name": "stderr",
          "text": [
            "Epoch: 7, F1 score: 0.783, Loss: 0.2156:  80%|████████  | 8/10 [08:16<02:02, 61.48s/it]"
          ]
        },
        {
          "output_type": "stream",
          "name": "stdout",
          "text": [
            "epoch: 7, f1: 0.783, train loss: 0.2156, precision: 0.7987, recall: 0.7846, support: None\n"
          ]
        },
        {
          "output_type": "stream",
          "name": "stderr",
          "text": [
            "Epoch: 8, F1 score: 0.7915, Loss: 0.189:  90%|█████████ | 9/10 [09:16<01:01, 61.16s/it]"
          ]
        },
        {
          "output_type": "stream",
          "name": "stdout",
          "text": [
            "epoch: 8, f1: 0.7915, train loss: 0.189, precision: 0.798, recall: 0.793, support: None\n"
          ]
        },
        {
          "output_type": "stream",
          "name": "stderr",
          "text": [
            "Epoch: 9, F1 score: 0.7919, Loss: 0.1797: 100%|██████████| 10/10 [10:18<00:00, 61.84s/it]"
          ]
        },
        {
          "output_type": "stream",
          "name": "stdout",
          "text": [
            "epoch: 9, f1: 0.7919, train loss: 0.1797, precision: 0.804, recall: 0.7944, support: None\n"
          ]
        },
        {
          "output_type": "stream",
          "name": "stderr",
          "text": [
            "\n"
          ]
        }
      ],
      "source": [
        "EPOCHS = 10\n",
        "LR = 4e-5\n",
        "BATCH_SIZE = 8\n",
        "SEED = 42\n",
        "WARM_UP = 5\n",
        "HIDDEN = 512\n",
        "DROPOUT = 0.1\n",
        "LAMBDA = 0.6\n",
        "LAMBDA2 = 0.1\n",
        "\n",
        "train()"
      ]
    }
  ],
  "metadata": {
    "accelerator": "GPU",
    "colab": {
      "collapsed_sections": [
        "-C9RBqgKgeb0",
        "bQb_SViIh5WD"
      ],
      "provenance": [],
      "include_colab_link": true
    },
    "gpuClass": "standard",
    "kernelspec": {
      "display_name": "Python 3",
      "name": "python3"
    },
    "language_info": {
      "name": "python"
    }
  },
  "nbformat": 4,
  "nbformat_minor": 0
}